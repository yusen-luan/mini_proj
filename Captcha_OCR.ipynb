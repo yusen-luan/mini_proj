{
  "cells": [
    {
      "cell_type": "markdown",
      "metadata": {
        "id": "TWzXVwIzksFO"
      },
      "source": [
        "# Captcha Recognition in Images using CRNN with CTC Loss\n",
        "[![Open In Colab](https://colab.research.google.com/assets/colab-badge.svg)](https://colab.research.google.com/drive/1haykGyhrtkJkV5GlDMdrJstnvj0rYVmo?usp=sharing)\n",
        "\n",
        "## Overview\n",
        "\n",
        "This code demonstrates a deep learning-based approach for recognizing text in images. The core architecture used is a Convolutional Recurrent Neural Network (CRNN) with the Connectionist Temporal Classification (CTC) loss. Let's break down what this code does and the significance of its components:\n",
        "\n",
        "## Model Architecture\n",
        "\n",
        "### Convolutional Recurrent Neural Network (CRNN)\n",
        "\n",
        "The CRNN is a hybrid architecture that combines convolutional neural networks (CNNs) and recurrent neural networks (RNNs). This combination makes it particularly well-suited for tasks involving sequence recognition in images, such as text recognition. The model consists of the following components:\n",
        "\n",
        "- **Convolutional Layers:** These layers apply a series of convolution operations to the input images. Convolution helps extract meaningful features from the images, such as edges and patterns.\n",
        "\n",
        "- **Recurrent Layers (LSTM):** Bidirectional Long Short-Term Memory (LSTM) layers are used for sequence modeling. LSTMs are capable of capturing dependencies in sequential data, making them effective for recognizing text sequences within images.\n",
        "\n",
        "- **Output Layer:** The final layer uses a softmax activation function to predict the probabilities of each character in the output sequence. This is crucial for recognizing individual characters in the text.\n",
        "\n",
        "- **CTC Loss:** The model is trained using the Connectionist Temporal Classification (CTC) loss function, which is essential for sequence-to-sequence tasks like text recognition.\n",
        "\n",
        "## Connectionist Temporal Classification (CTC) Loss\n",
        "\n",
        "### What is CTC Loss?\n",
        "\n",
        "CTC loss is a specialized loss function designed for sequence recognition tasks where the alignment between input and output sequences is not known beforehand. In text recognition, for example, the length of the text may not match the length of the input image. CTC loss addresses this challenge by enabling the model to learn the alignment automatically.\n",
        "![ctc_alignment_steps.svg](data:image/svg+xml;base64,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)\n",
        "\n",
        "### How CTC Loss Works\n",
        "\n",
        "- **Label Encoding:** In text recognition, the label is typically a sequence of characters corresponding to the text in the image.\n",
        "\n",
        "- **CTC Loss Computation:** CTC loss computes the likelihood of the true label sequence given the input image and the predicted sequence of characters.\n",
        "\n",
        "- **Handling Varying Lengths:** Importantly, CTC loss can handle cases where the length of the predicted sequence doesn't exactly match the length of the true label. It introduces a special \"blank\" symbol and aligns the characters accordingly.\n",
        "\n",
        "- **Training Objective:** The training objective is to maximize the likelihood of the correct label sequence, taking into account all possible alignments.\n",
        "\n",
        "### Purpose of CTC Loss\n",
        "\n",
        "CTC loss serves a critical role in text recognition tasks by allowing models to:\n",
        "\n",
        "- Recognize text in images without requiring explicit character-level alignment during training.\n",
        "- Handle varying text lengths, making it suitable for scenarios with different text lengths in images.\n",
        "- Train end-to-end models that directly output character sequences without relying on intermediate steps like text localization.\n",
        "\n",
        "## Project Purpose\n",
        "\n",
        "This code brings together the CRNN architecture and CTC loss to build a robust text recognition model. It demonstrates how to preprocess image data, train the model, and visualize both the training history and predictions. The model's flexibility in handling varying text lengths and its ability to learn alignment make it a valuable tool for various applications, such as OCR (Optical Character Recognition), automated data entry, and more.\n",
        "\n",
        "Feel free to adapt this code for your specific text recognition tasks and explore improvements in model architecture and hyperparameters.\n"
      ]
    },
    {
      "cell_type": "markdown",
      "metadata": {
        "id": "3oDQDm6Clzxe"
      },
      "source": [
        "## Importing Libraries and Frameworks\n",
        "\n",
        "This code block begins by importing necessary Python libraries and TensorFlow components. These libraries and components are crucial for building and training the Convolutional Recurrent Neural Network (CRNN) model with Connectionist Temporal Classification (CTC) loss for text recognition in images.\n"
      ]
    },
    {
      "cell_type": "code",
      "execution_count": 1,
      "metadata": {
        "id": "m8XSMwSYajnj"
      },
      "outputs": [],
      "source": [
        "import numpy as np\n",
        "from pathlib import Path\n",
        "import matplotlib.pyplot as plt\n",
        "import tensorflow as tf\n",
        "from tensorflow.keras.layers import Input, Conv2D, MaxPooling2D, BatchNormalization, Reshape, Bidirectional, LSTM, Dense, Lambda, Rescaling, Dropout\n",
        "from tensorflow.keras.models import Model\n",
        "from tensorflow.keras.optimizers import Adam\n",
        "from tensorflow.keras.backend import ctc_batch_cost, ctc_decode"
      ]
    },
    {
      "cell_type": "markdown",
      "metadata": {
        "id": "ee4PJqwvmok9"
      },
      "source": [
        "## Using Local Dataset\n",
        "\n",
        "We're using local captcha datasets instead of downloading:\n",
        "- **Training data**: `./data/relabelled` (3,155 PNG files)\n",
        "- **Test data**: `./data/test` (2,000 PNG files)\n",
        "\n",
        "Each sample's label is represented as a string corresponding to the file's name, excluding the file extension."
      ]
    },
    {
      "cell_type": "code",
      "execution_count": 2,
      "metadata": {
        "colab": {
          "base_uri": "https://localhost:8080/"
        },
        "id": "hmjr0DP2-GuD",
        "outputId": "2c1b3dcf-0fc0-49c9-dbd3-93bbb8a0b3f6"
      },
      "outputs": [
        {
          "name": "stdout",
          "output_type": "stream",
          "text": [
            "Using local dataset from ./data/relabelled and ./data/test\n"
          ]
        }
      ],
      "source": [
        "# Using local data instead of downloading\n",
        "# Training data: ./data/relabelled\n",
        "# Testing data: ./data/test\n",
        "print(\"Using local dataset from ./data/relabelled and ./data/test\")"
      ]
    },
    {
      "cell_type": "markdown",
      "metadata": {
        "id": "o71ccW8SmvN2"
      },
      "source": [
        "## Data Preprocessing and Dataset Creation\n",
        "\n",
        "In this section, the code block accomplishes the following tasks:\n",
        "\n",
        "1. **Constants Definition**: It defines several constants crucial for data preprocessing and model training:\n",
        "   - `image_height` and `image_width`: The desired height and width of the captcha images.\n",
        "   - `batch_size`: The batch size for training the model.\n",
        "\n",
        "2. **Loading Local Data**: It loads data from two local directories:\n",
        "   - Training data from `./data/relabelled` (3,155 samples)\n",
        "   - Test data from `./data/test` (2,000 samples)\n",
        "   - Extracts labels from the image file names (excluding the file extension)\n",
        "\n",
        "3. **Maximum Captcha Length**: It computes the maximum length of any captcha across both training and test datasets. This information is useful for defining the model's output layer.\n",
        "\n",
        "4. **Character Set**: It creates a set of all unique characters present in both training and test labels. This ensures the model can handle all characters that appear in either dataset.\n",
        "\n",
        "5. **Character-to-Integer Mapping**: It establishes a bidirectional mapping between characters and integers for encoding and decoding labels during training and prediction.\n",
        "\n",
        "6. **Image Preprocessing Function**: It defines a function, `preprocess_image`, responsible for reading, decoding, and resizing the captcha images. The images are converted to grayscale.\n",
        "\n",
        "7. **Preprocessing Images and Labels**: It processes the images by applying the `preprocess_image` function to each image path. It does this separately for:\n",
        "   - Training images and labels\n",
        "   - Test images and labels\n",
        "\n",
        "8. **Creating TensorFlow Datasets**: It creates TensorFlow datasets from the preprocessed images and encoded labels:\n",
        "   - `train_dataset`: Training data (80% of relabelled data), shuffled, batched, and prefetched\n",
        "   - `validation_dataset`: Validation data (20% of relabelled data), batched and prefetched\n",
        "   - `test_dataset`: Final test data (from ./data/test), batched and prefetched\n",
        "\n",
        "9. **Data Pipeline Optimization**: The datasets are configured with batching and prefetching for efficient training.\n",
        "\n",
        "This section is crucial for preparing the dataset and defining the data pipeline required for training the OCR (Optical Character Recognition) model.\n"
      ]
    },
    {
      "cell_type": "code",
      "execution_count": 9,
      "metadata": {
        "id": "Vjl0a4dPa3qA"
      },
      "outputs": [
        {
          "name": "stdout",
          "output_type": "stream",
          "text": [
            "Training samples: 3155\n",
            "Test samples: 2000\n",
            "Maximum captcha length: 13\n",
            "Number of unique characters: 65\n",
            "Characters: ()-0123456789ABCDEFGHIJKLMNOPQRSTUVWXYZabcdefghijklmnopqrstuvwxyz\n",
            "Preprocessing training data...\n",
            "Preprocessing test data...\n",
            "\n",
            "Datasets created successfully!\n",
            "Training batches: ~157\n",
            "Validation batches: ~39\n",
            "Test batches: ~125\n"
          ]
        }
      ],
      "source": [
        "# Define constants\n",
        "image_height, image_width = 50, 200\n",
        "batch_size = 16\n",
        "\n",
        "# Local data directories\n",
        "train_dir = Path(\"./data/relabelled\")\n",
        "test_dir = Path(\"./data/test\")\n",
        "\n",
        "# Load training data\n",
        "train_image_paths = [str(image) for image in sorted(train_dir.glob(\"*.png\"))]\n",
        "train_labels = [image.stem for image in sorted(train_dir.glob(\"*.png\"))]\n",
        "\n",
        "# Load test data (used as validation)\n",
        "test_image_paths = [str(image) for image in sorted(test_dir.glob(\"*.png\"))]\n",
        "test_labels = [image.stem for image in sorted(test_dir.glob(\"*.png\"))]\n",
        "\n",
        "print(f\"Training samples: {len(train_image_paths)}\")\n",
        "print(f\"Test samples: {len(test_image_paths)}\")\n",
        "\n",
        "# Combine all labels to find all unique characters and max length\n",
        "all_labels = train_labels + test_labels\n",
        "\n",
        "# Maximum length of any captcha in the dataset\n",
        "max_length = max([len(label) for label in all_labels])\n",
        "print(f\"Maximum captcha length: {max_length}\")\n",
        "\n",
        "# Create a set of all unique characters in the labels\n",
        "all_possible_characters = sorted(set(\"\".join(all_labels)))\n",
        "print(f\"Number of unique characters: {len(all_possible_characters)}\")\n",
        "print(f\"Characters: {''.join(all_possible_characters)}\")\n",
        "\n",
        "# Create a mapping of characters to integers and integers to characters\n",
        "char_to_int = {char: i for i, char in enumerate(all_possible_characters)}\n",
        "int_to_char = {i: char for char, i in char_to_int.items()}\n",
        "\n",
        "# Define a function to preprocess an image\n",
        "def preprocess_image(image_path):\n",
        "    image = tf.io.read_file(image_path)\n",
        "    image = tf.image.decode_png(image, channels=1)  # Grayscale image\n",
        "    image = tf.image.resize(image, (image_height, image_width))\n",
        "    return image\n",
        "\n",
        "# Function to pad labels to max_length (use 0 instead of -1, but we'll track actual lengths)\n",
        "def pad_label(label, max_length, padding_value=0):\n",
        "    \"\"\"Pad label with padding_value to reach max_length\"\"\"\n",
        "    padded = label + [padding_value] * (max_length - len(label))\n",
        "    return padded\n",
        "\n",
        "# Preprocess training images and labels\n",
        "print(\"Preprocessing training data...\")\n",
        "train_images = [preprocess_image(image_path) for image_path in train_image_paths]\n",
        "train_encoded_labels = [[char_to_int[char] for char in label] for label in train_labels]\n",
        "# Store actual label lengths before padding\n",
        "train_label_lengths = [len(label) for label in train_encoded_labels]\n",
        "# Pad all labels to max_length\n",
        "train_encoded_labels_padded = [pad_label(label, max_length) for label in train_encoded_labels]\n",
        "\n",
        "# Preprocess test images and labels\n",
        "print(\"Preprocessing test data...\")\n",
        "test_images = [preprocess_image(image_path) for image_path in test_image_paths]\n",
        "test_encoded_labels = [[char_to_int[char] for char in label] for label in test_labels]\n",
        "# Store actual label lengths before padding\n",
        "test_label_lengths = [len(label) for label in test_encoded_labels]\n",
        "# Pad all labels to max_length\n",
        "test_encoded_labels_padded = [pad_label(label, max_length) for label in test_encoded_labels]\n",
        "\n",
        "# Create TensorFlow Datasets with (image, label, label_length) tuples\n",
        "train_dataset_full = tf.data.Dataset.from_tensor_slices((train_images, train_encoded_labels_padded, train_label_lengths))\n",
        "train_dataset_full = train_dataset_full.shuffle(buffer_size=len(train_images))\n",
        "\n",
        "# Split training data into train and validation (80/20 split)\n",
        "train_size = int(0.8 * len(train_image_paths))\n",
        "train_dataset = train_dataset_full.take(train_size).batch(batch_size).prefetch(buffer_size=tf.data.AUTOTUNE)\n",
        "validation_dataset = train_dataset_full.skip(train_size).batch(batch_size).prefetch(buffer_size=tf.data.AUTOTUNE)\n",
        "\n",
        "# Create test dataset (for final evaluation)\n",
        "test_dataset = tf.data.Dataset.from_tensor_slices((test_images, test_encoded_labels_padded, test_label_lengths))\n",
        "test_dataset = test_dataset.batch(batch_size).prefetch(buffer_size=tf.data.AUTOTUNE)\n",
        "\n",
        "print(f\"\\nDatasets created successfully!\")\n",
        "print(f\"Training batches: ~{train_size // batch_size}\")\n",
        "print(f\"Validation batches: ~{(len(train_image_paths) - train_size) // batch_size}\")\n",
        "print(f\"Test batches: ~{len(test_image_paths) // batch_size}\")\n"
      ]
    },
    {
      "cell_type": "markdown",
      "metadata": {
        "id": "nS8k4wRqnF0m"
      },
      "source": [
        "## Visualizing Random Samples from the Dataset\n",
        "\n",
        "In this section, the code defines a Python function and demonstrates how to use it for visualizing random samples from a dataset.\n",
        "\n",
        "### `visualize_random_samples` Function\n",
        "\n",
        "This function serves the following purposes:\n",
        "\n",
        "- **Visualization**: It visualizes random samples from a given dataset, allowing you to inspect the captcha images and their corresponding labels.\n",
        "\n",
        "- **Arguments**:\n",
        "  - `dataset` (tf.data.Dataset): The dataset containing image-label pairs.\n",
        "  - `int_to_char` (dict): A dictionary that maps integer labels to characters, enabling label decoding.\n",
        "  - `num_samples` (int): The number of random samples to visualize.\n",
        "\n",
        "- **Returns**: None\n",
        "\n",
        "The function performs the following steps:\n",
        "\n",
        "1. **Create Dataset Iterator**: It creates an iterator for the provided dataset using the `iter` function. This iterator will allow us to iterate through the dataset and access random samples.\n",
        "\n",
        "2. **Iterate and Visualize**: Inside a loop that runs for `num_samples` iterations, the function does the following:\n",
        "   - Retrieves the next random sample from the dataset using the iterator.\n",
        "   - Decodes the label by converting the integer label values to characters using the `int_to_char` mapping.\n",
        "   - Displays the captcha image alongside its label:\n",
        "     - The image is displayed using Matplotlib with grayscale color mapping.\n",
        "     - The label is shown as the image title.\n",
        "\n",
        "3. **Example Usage**: An example usage of the `visualize_random_samples` function is provided. It visualizes five random samples from the `validation_dataset` and uses the `int_to_char` mapping to decode and display their labels.\n",
        "\n",
        "This section helps you visually inspect and verify the quality of the data in your dataset, ensuring that the images and labels are correctly paired. It's a valuable step in understanding your data before training the OCR model.\n",
        "\n"
      ]
    },
    {
      "cell_type": "code",
      "execution_count": 10,
      "metadata": {
        "colab": {
          "base_uri": "https://localhost:8080/",
          "height": 612
        },
        "id": "MeqqEePGay3k",
        "outputId": "943609be-1b4f-4ae3-bca5-ad83f1caec64"
      },
      "outputs": [
        {
          "data": {
            "image/png": "[encoded data removed]",
            "text/plain": [
              "<Figure size 400x200 with 1 Axes>"
            ]
          },
          "metadata": {},
          "output_type": "display_data"
        },
        {
          "data": {
            "image/png": "[encoded data removed]",
            "text/plain": [
              "<Figure size 400x200 with 1 Axes>"
            ]
          },
          "metadata": {},
          "output_type": "display_data"
        },
        {
          "data": {
            "image/png": "[encoded data removed]",
            "text/plain": [
              "<Figure size 400x200 with 1 Axes>"
            ]
          },
          "metadata": {},
          "output_type": "display_data"
        },
        {
          "data": {
            "image/png": "[encoded data removed]",
            "text/plain": [
              "<Figure size 400x200 with 1 Axes>"
            ]
          },
          "metadata": {},
          "output_type": "display_data"
        },
        {
          "data": {
            "image/png": "[encoded data removed]",
            "text/plain": [
              "<Figure size 400x200 with 1 Axes>"
            ]
          },
          "metadata": {},
          "output_type": "display_data"
        }
      ],
      "source": [
        "def visualize_random_samples(dataset, int_to_char, num_samples=5):\n",
        "    \"\"\"\n",
        "    Visualize random samples from a dataset.\n",
        "\n",
        "    Args:\n",
        "        dataset (tf.data.Dataset): The dataset containing image-label pairs.\n",
        "        int_to_char (dict): A mapping from integer labels to characters.\n",
        "        num_samples (int): The number of samples to visualize.\n",
        "\n",
        "    Returns:\n",
        "        None\n",
        "    \"\"\"\n",
        "\n",
        "    # Create an iterator for the dataset\n",
        "    dataset_iter = iter(dataset)\n",
        "\n",
        "    # Iterate through the random samples and visualize them\n",
        "    for i in range(num_samples):\n",
        "        image, label, label_length = next(dataset_iter)\n",
        "\n",
        "        # Decode the label (convert integers to characters, use actual length)\n",
        "        actual_length = int(label_length[0].numpy())\n",
        "        label = [int_to_char[int(x)] for x in label[0].numpy()[:actual_length]]\n",
        "\n",
        "        # Display the image and label\n",
        "        plt.figure(figsize=(4, 2))\n",
        "        plt.imshow(image[0, :, :, 0], cmap='gray')\n",
        "        plt.title(\"Label: \" + ''.join(label))\n",
        "        plt.axis('off')\n",
        "        plt.show()\n",
        "\n",
        "# Example usage:\n",
        "visualize_random_samples(validation_dataset, int_to_char, num_samples=5)"
      ]
    },
    {
      "cell_type": "markdown",
      "metadata": {
        "id": "1K732enintwx"
      },
      "source": [
        "## OCR Model Architecture\n",
        "\n",
        "In this section, we define and describe the architecture of the Optical Character Recognition (OCR) model for captcha image recognition. The code presented below outlines the various components of the model and how they are configured.\n",
        "\n",
        "### Model Architecture\n",
        "\n",
        "The OCR model consists of the following components:\n",
        "\n",
        "#### Input Layer\n",
        "- Input Shape: `(image_height, image_width, 1)`\n",
        "- Purpose: The input layer defines the shape of the input data, which corresponds to grayscale captcha images. Each image is `image_height` pixels in height and `image_width` pixels in width.\n",
        "\n",
        "#### Standardization Layer\n",
        "- Purpose: This layer rescales pixel values to be within the [0, 1] range. It's common practice to standardize input data to facilitate model training.\n",
        "\n",
        "#### Transposition Layer\n",
        "- Purpose: The `Lambda` layer transposes the input tensor to the shape `(None, image_width, image_height, 1)` to ensure that the time dimension aligns with the width of the image.\n",
        "\n",
        "#### Convolutional Layers\n",
        "- Configuration: Multiple pairs of Conv2D layers with ReLU activation and Batch Normalization are applied. MaxPooling2D layers with appropriate strides are used for downsampling.\n",
        "- Purpose: Convolutional layers extract features from the input images. Batch Normalization helps stabilize training, and MaxPooling2D reduces spatial dimensions.\n",
        "\n",
        "#### Reshape Layer\n",
        "- Purpose: This layer reshapes the tensor to `(image_width // 8, (image_height // 4) * 256)`, which is important for the subsequent recurrent layers. It essentially \"flattens\" the spatial dimensions while retaining the time dimension.\n",
        "\n",
        "#### Dense Layer\n",
        "- Configuration: A Dense layer with ReLU activation is applied.\n",
        "- Purpose: The Dense layer processes the flattened features extracted by the convolutional layers.\n",
        "\n",
        "#### Recurrent Layers (Bidirectional LSTM)\n",
        "- Configuration: Two Bidirectional LSTM layers with dropout are applied. These layers are recurrent and process sequential data.\n",
        "- Purpose: Bidirectional LSTMs capture temporal dependencies in the data, making them suitable for recognizing characters in captcha images. They process data in both forward and backward directions, improving the model's ability to learn from sequences.\n",
        "\n",
        "#### Output Layer (CTC)\n",
        "- Configuration: A Dense layer with a softmax activation function is applied. The number of units in this layer corresponds to the number of unique characters in the dataset plus one (for the CTC blank label).\n",
        "- Purpose: The output layer produces character predictions. The CTC (Connectionist Temporal Classification) loss is used to align predicted characters with ground truth labels. The `ctc_loss` function is defined to calculate the CTC loss for each element in a batch. It takes as input the true labels `(samples, max_string_length)`, predicted sequences `(samples, time_steps, num_categories)`, input sequence lengths `(samples, 1)`, and label sequence lengths `(samples, 1)`. The function computes the CTC loss for each element in the batch and returns a tensor with the CTC loss for each element.\n",
        "\n",
        "### Model Compilation\n",
        "\n",
        "The model is compiled using the Adam optimizer and a custom CTC loss function. CTC loss measures the dissimilarity between predicted sequences and ground truth sequences, considering variable alignment.\n",
        "\n",
        "### Summary\n",
        "\n",
        "The model summary, which provides a concise overview of the model architecture, is displayed at the end of the code cell. It includes details about layer types, output shapes, and the number of parameters.\n",
        "\n",
        "This OCR model is designed for recognizing characters in captcha images and can be further trained and fine-tuned using captcha datasets.\n"
      ]
    },
    {
      "cell_type": "code",
      "execution_count": null,
      "metadata": {
        "colab": {
          "base_uri": "https://localhost:8080/"
        },
        "id": "P03RbKnnbRlX",
        "outputId": "b28d32c6-7109-4480-e7ba-e3948f6a38d0"
      },
      "outputs": [
        {
          "data": {
            "text/html": [
              "<pre style=\"white-space:pre;overflow-x:auto;line-height:normal;font-family:Menlo,'DejaVu Sans Mono',consolas,'Courier New',monospace\"><span style=\"font-weight: bold\">Model: \"OCR_model\"</span>\n",
              "</pre>\n"
            ],
            "text/plain": [
              "\u001b[1mModel: \"OCR_model\"\u001b[0m\n"
            ]
          },
          "metadata": {},
          "output_type": "display_data"
        },
        {
          "data": {
            "text/html": [
              "<pre style=\"white-space:pre;overflow-x:auto;line-height:normal;font-family:Menlo,'DejaVu Sans Mono',consolas,'Courier New',monospace\">┏━━━━━━━━━━━━━━━━━━━━━━━━━━━━━━━━━┳━━━━━━━━━━━━━━━━━━━━━━━━┳━━━━━━━━━━━━━━━┓\n",
              "┃<span style=\"font-weight: bold\"> Layer (type)                    </span>┃<span style=\"font-weight: bold\"> Output Shape           </span>┃<span style=\"font-weight: bold\">       Param # </span>┃\n",
              "┡━━━━━━━━━━━━━━━━━━━━━━━━━━━━━━━━━╇━━━━━━━━━━━━━━━━━━━━━━━━╇━━━━━━━━━━━━━━━┩\n",
              "│ input_image (<span style=\"color: #0087ff; text-decoration-color: #0087ff\">InputLayer</span>)        │ (<span style=\"color: #00d7ff; text-decoration-color: #00d7ff\">None</span>, <span style=\"color: #00af00; text-decoration-color: #00af00\">50</span>, <span style=\"color: #00af00; text-decoration-color: #00af00\">200</span>, <span style=\"color: #00af00; text-decoration-color: #00af00\">1</span>)     │             <span style=\"color: #00af00; text-decoration-color: #00af00\">0</span> │\n",
              "├─────────────────────────────────┼────────────────────────┼───────────────┤\n",
              "│ rescaling_1 (<span style=\"color: #0087ff; text-decoration-color: #0087ff\">Rescaling</span>)         │ (<span style=\"color: #00d7ff; text-decoration-color: #00d7ff\">None</span>, <span style=\"color: #00af00; text-decoration-color: #00af00\">50</span>, <span style=\"color: #00af00; text-decoration-color: #00af00\">200</span>, <span style=\"color: #00af00; text-decoration-color: #00af00\">1</span>)     │             <span style=\"color: #00af00; text-decoration-color: #00af00\">0</span> │\n",
              "├─────────────────────────────────┼────────────────────────┼───────────────┤\n",
              "│ transpose (<span style=\"color: #0087ff; text-decoration-color: #0087ff\">Lambda</span>)              │ (<span style=\"color: #00d7ff; text-decoration-color: #00d7ff\">None</span>, <span style=\"color: #00af00; text-decoration-color: #00af00\">200</span>, <span style=\"color: #00af00; text-decoration-color: #00af00\">50</span>, <span style=\"color: #00af00; text-decoration-color: #00af00\">1</span>)     │             <span style=\"color: #00af00; text-decoration-color: #00af00\">0</span> │\n",
              "├─────────────────────────────────┼────────────────────────┼───────────────┤\n",
              "│ conv2d_3 (<span style=\"color: #0087ff; text-decoration-color: #0087ff\">Conv2D</span>)               │ (<span style=\"color: #00d7ff; text-decoration-color: #00d7ff\">None</span>, <span style=\"color: #00af00; text-decoration-color: #00af00\">200</span>, <span style=\"color: #00af00; text-decoration-color: #00af00\">50</span>, <span style=\"color: #00af00; text-decoration-color: #00af00\">64</span>)    │           <span style=\"color: #00af00; text-decoration-color: #00af00\">640</span> │\n",
              "├─────────────────────────────────┼────────────────────────┼───────────────┤\n",
              "│ batch_normalization_3           │ (<span style=\"color: #00d7ff; text-decoration-color: #00d7ff\">None</span>, <span style=\"color: #00af00; text-decoration-color: #00af00\">200</span>, <span style=\"color: #00af00; text-decoration-color: #00af00\">50</span>, <span style=\"color: #00af00; text-decoration-color: #00af00\">64</span>)    │           <span style=\"color: #00af00; text-decoration-color: #00af00\">256</span> │\n",
              "│ (<span style=\"color: #0087ff; text-decoration-color: #0087ff\">BatchNormalization</span>)            │                        │               │\n",
              "├─────────────────────────────────┼────────────────────────┼───────────────┤\n",
              "│ pool1 (<span style=\"color: #0087ff; text-decoration-color: #0087ff\">MaxPooling2D</span>)            │ (<span style=\"color: #00d7ff; text-decoration-color: #00d7ff\">None</span>, <span style=\"color: #00af00; text-decoration-color: #00af00\">100</span>, <span style=\"color: #00af00; text-decoration-color: #00af00\">25</span>, <span style=\"color: #00af00; text-decoration-color: #00af00\">64</span>)    │             <span style=\"color: #00af00; text-decoration-color: #00af00\">0</span> │\n",
              "├─────────────────────────────────┼────────────────────────┼───────────────┤\n",
              "│ conv2d_4 (<span style=\"color: #0087ff; text-decoration-color: #0087ff\">Conv2D</span>)               │ (<span style=\"color: #00d7ff; text-decoration-color: #00d7ff\">None</span>, <span style=\"color: #00af00; text-decoration-color: #00af00\">100</span>, <span style=\"color: #00af00; text-decoration-color: #00af00\">25</span>, <span style=\"color: #00af00; text-decoration-color: #00af00\">128</span>)   │        <span style=\"color: #00af00; text-decoration-color: #00af00\">73,856</span> │\n",
              "├─────────────────────────────────┼────────────────────────┼───────────────┤\n",
              "│ batch_normalization_4           │ (<span style=\"color: #00d7ff; text-decoration-color: #00d7ff\">None</span>, <span style=\"color: #00af00; text-decoration-color: #00af00\">100</span>, <span style=\"color: #00af00; text-decoration-color: #00af00\">25</span>, <span style=\"color: #00af00; text-decoration-color: #00af00\">128</span>)   │           <span style=\"color: #00af00; text-decoration-color: #00af00\">512</span> │\n",
              "│ (<span style=\"color: #0087ff; text-decoration-color: #0087ff\">BatchNormalization</span>)            │                        │               │\n",
              "├─────────────────────────────────┼────────────────────────┼───────────────┤\n",
              "│ pool2 (<span style=\"color: #0087ff; text-decoration-color: #0087ff\">MaxPooling2D</span>)            │ (<span style=\"color: #00d7ff; text-decoration-color: #00d7ff\">None</span>, <span style=\"color: #00af00; text-decoration-color: #00af00\">50</span>, <span style=\"color: #00af00; text-decoration-color: #00af00\">12</span>, <span style=\"color: #00af00; text-decoration-color: #00af00\">128</span>)    │             <span style=\"color: #00af00; text-decoration-color: #00af00\">0</span> │\n",
              "├─────────────────────────────────┼────────────────────────┼───────────────┤\n",
              "│ conv2d_5 (<span style=\"color: #0087ff; text-decoration-color: #0087ff\">Conv2D</span>)               │ (<span style=\"color: #00d7ff; text-decoration-color: #00d7ff\">None</span>, <span style=\"color: #00af00; text-decoration-color: #00af00\">50</span>, <span style=\"color: #00af00; text-decoration-color: #00af00\">12</span>, <span style=\"color: #00af00; text-decoration-color: #00af00\">256</span>)    │       <span style=\"color: #00af00; text-decoration-color: #00af00\">295,168</span> │\n",
              "├─────────────────────────────────┼────────────────────────┼───────────────┤\n",
              "│ batch_normalization_5           │ (<span style=\"color: #00d7ff; text-decoration-color: #00d7ff\">None</span>, <span style=\"color: #00af00; text-decoration-color: #00af00\">50</span>, <span style=\"color: #00af00; text-decoration-color: #00af00\">12</span>, <span style=\"color: #00af00; text-decoration-color: #00af00\">256</span>)    │         <span style=\"color: #00af00; text-decoration-color: #00af00\">1,024</span> │\n",
              "│ (<span style=\"color: #0087ff; text-decoration-color: #0087ff\">BatchNormalization</span>)            │                        │               │\n",
              "├─────────────────────────────────┼────────────────────────┼───────────────┤\n",
              "│ pool3 (<span style=\"color: #0087ff; text-decoration-color: #0087ff\">MaxPooling2D</span>)            │ (<span style=\"color: #00d7ff; text-decoration-color: #00d7ff\">None</span>, <span style=\"color: #00af00; text-decoration-color: #00af00\">25</span>, <span style=\"color: #00af00; text-decoration-color: #00af00\">12</span>, <span style=\"color: #00af00; text-decoration-color: #00af00\">256</span>)    │             <span style=\"color: #00af00; text-decoration-color: #00af00\">0</span> │\n",
              "├─────────────────────────────────┼────────────────────────┼───────────────┤\n",
              "│ reshape (<span style=\"color: #0087ff; text-decoration-color: #0087ff\">Reshape</span>)               │ (<span style=\"color: #00d7ff; text-decoration-color: #00d7ff\">None</span>, <span style=\"color: #00af00; text-decoration-color: #00af00\">25</span>, <span style=\"color: #00af00; text-decoration-color: #00af00\">3072</span>)       │             <span style=\"color: #00af00; text-decoration-color: #00af00\">0</span> │\n",
              "├─────────────────────────────────┼────────────────────────┼───────────────┤\n",
              "│ dense_2 (<span style=\"color: #0087ff; text-decoration-color: #0087ff\">Dense</span>)                 │ (<span style=\"color: #00d7ff; text-decoration-color: #00d7ff\">None</span>, <span style=\"color: #00af00; text-decoration-color: #00af00\">25</span>, <span style=\"color: #00af00; text-decoration-color: #00af00\">128</span>)        │       <span style=\"color: #00af00; text-decoration-color: #00af00\">393,344</span> │\n",
              "├─────────────────────────────────┼────────────────────────┼───────────────┤\n",
              "│ dropout_1 (<span style=\"color: #0087ff; text-decoration-color: #0087ff\">Dropout</span>)             │ (<span style=\"color: #00d7ff; text-decoration-color: #00d7ff\">None</span>, <span style=\"color: #00af00; text-decoration-color: #00af00\">25</span>, <span style=\"color: #00af00; text-decoration-color: #00af00\">128</span>)        │             <span style=\"color: #00af00; text-decoration-color: #00af00\">0</span> │\n",
              "├─────────────────────────────────┼────────────────────────┼───────────────┤\n",
              "│ bidirectional_1 (<span style=\"color: #0087ff; text-decoration-color: #0087ff\">Bidirectional</span>) │ (<span style=\"color: #00d7ff; text-decoration-color: #00d7ff\">None</span>, <span style=\"color: #00af00; text-decoration-color: #00af00\">25</span>, <span style=\"color: #00af00; text-decoration-color: #00af00\">256</span>)        │       <span style=\"color: #00af00; text-decoration-color: #00af00\">263,168</span> │\n",
              "├─────────────────────────────────┼────────────────────────┼───────────────┤\n",
              "│ dense_3 (<span style=\"color: #0087ff; text-decoration-color: #0087ff\">Dense</span>)                 │ (<span style=\"color: #00d7ff; text-decoration-color: #00d7ff\">None</span>, <span style=\"color: #00af00; text-decoration-color: #00af00\">25</span>, <span style=\"color: #00af00; text-decoration-color: #00af00\">66</span>)         │        <span style=\"color: #00af00; text-decoration-color: #00af00\">16,962</span> │\n",
              "└─────────────────────────────────┴────────────────────────┴───────────────┘\n",
              "</pre>\n"
            ],
            "text/plain": [
              "┏━━━━━━━━━━━━━━━━━━━━━━━━━━━━━━━━━┳━━━━━━━━━━━━━━━━━━━━━━━━┳━━━━━━━━━━━━━━━┓\n",
              "┃\u001b[1m \u001b[0m\u001b[1mLayer (type)                   \u001b[0m\u001b[1m \u001b[0m┃\u001b[1m \u001b[0m\u001b[1mOutput Shape          \u001b[0m\u001b[1m \u001b[0m┃\u001b[1m \u001b[0m\u001b[1m      Param #\u001b[0m\u001b[1m \u001b[0m┃\n",
              "┡━━━━━━━━━━━━━━━━━━━━━━━━━━━━━━━━━╇━━━━━━━━━━━━━━━━━━━━━━━━╇━━━━━━━━━━━━━━━┩\n",
              "│ input_image (\u001b[38;5;33mInputLayer\u001b[0m)        │ (\u001b[38;5;45mNone\u001b[0m, \u001b[38;5;34m50\u001b[0m, \u001b[38;5;34m200\u001b[0m, \u001b[38;5;34m1\u001b[0m)     │             \u001b[38;5;34m0\u001b[0m │\n",
              "├─────────────────────────────────┼────────────────────────┼───────────────┤\n",
              "│ rescaling_1 (\u001b[38;5;33mRescaling\u001b[0m)         │ (\u001b[38;5;45mNone\u001b[0m, \u001b[38;5;34m50\u001b[0m, \u001b[38;5;34m200\u001b[0m, \u001b[38;5;34m1\u001b[0m)     │             \u001b[38;5;34m0\u001b[0m │\n",
              "├─────────────────────────────────┼────────────────────────┼───────────────┤\n",
              "│ transpose (\u001b[38;5;33mLambda\u001b[0m)              │ (\u001b[38;5;45mNone\u001b[0m, \u001b[38;5;34m200\u001b[0m, \u001b[38;5;34m50\u001b[0m, \u001b[38;5;34m1\u001b[0m)     │             \u001b[38;5;34m0\u001b[0m │\n",
              "├─────────────────────────────────┼────────────────────────┼───────────────┤\n",
              "│ conv2d_3 (\u001b[38;5;33mConv2D\u001b[0m)               │ (\u001b[38;5;45mNone\u001b[0m, \u001b[38;5;34m200\u001b[0m, \u001b[38;5;34m50\u001b[0m, \u001b[38;5;34m64\u001b[0m)    │           \u001b[38;5;34m640\u001b[0m │\n",
              "├─────────────────────────────────┼────────────────────────┼───────────────┤\n",
              "│ batch_normalization_3           │ (\u001b[38;5;45mNone\u001b[0m, \u001b[38;5;34m200\u001b[0m, \u001b[38;5;34m50\u001b[0m, \u001b[38;5;34m64\u001b[0m)    │           \u001b[38;5;34m256\u001b[0m │\n",
              "│ (\u001b[38;5;33mBatchNormalization\u001b[0m)            │                        │               │\n",
              "├─────────────────────────────────┼────────────────────────┼───────────────┤\n",
              "│ pool1 (\u001b[38;5;33mMaxPooling2D\u001b[0m)            │ (\u001b[38;5;45mNone\u001b[0m, \u001b[38;5;34m100\u001b[0m, \u001b[38;5;34m25\u001b[0m, \u001b[38;5;34m64\u001b[0m)    │             \u001b[38;5;34m0\u001b[0m │\n",
              "├─────────────────────────────────┼────────────────────────┼───────────────┤\n",
              "│ conv2d_4 (\u001b[38;5;33mConv2D\u001b[0m)               │ (\u001b[38;5;45mNone\u001b[0m, \u001b[38;5;34m100\u001b[0m, \u001b[38;5;34m25\u001b[0m, \u001b[38;5;34m128\u001b[0m)   │        \u001b[38;5;34m73,856\u001b[0m │\n",
              "├─────────────────────────────────┼────────────────────────┼───────────────┤\n",
              "│ batch_normalization_4           │ (\u001b[38;5;45mNone\u001b[0m, \u001b[38;5;34m100\u001b[0m, \u001b[38;5;34m25\u001b[0m, \u001b[38;5;34m128\u001b[0m)   │           \u001b[38;5;34m512\u001b[0m │\n",
              "│ (\u001b[38;5;33mBatchNormalization\u001b[0m)            │                        │               │\n",
              "├─────────────────────────────────┼────────────────────────┼───────────────┤\n",
              "│ pool2 (\u001b[38;5;33mMaxPooling2D\u001b[0m)            │ (\u001b[38;5;45mNone\u001b[0m, \u001b[38;5;34m50\u001b[0m, \u001b[38;5;34m12\u001b[0m, \u001b[38;5;34m128\u001b[0m)    │             \u001b[38;5;34m0\u001b[0m │\n",
              "├─────────────────────────────────┼────────────────────────┼───────────────┤\n",
              "│ conv2d_5 (\u001b[38;5;33mConv2D\u001b[0m)               │ (\u001b[38;5;45mNone\u001b[0m, \u001b[38;5;34m50\u001b[0m, \u001b[38;5;34m12\u001b[0m, \u001b[38;5;34m256\u001b[0m)    │       \u001b[38;5;34m295,168\u001b[0m │\n",
              "├─────────────────────────────────┼────────────────────────┼───────────────┤\n",
              "│ batch_normalization_5           │ (\u001b[38;5;45mNone\u001b[0m, \u001b[38;5;34m50\u001b[0m, \u001b[38;5;34m12\u001b[0m, \u001b[38;5;34m256\u001b[0m)    │         \u001b[38;5;34m1,024\u001b[0m │\n",
              "│ (\u001b[38;5;33mBatchNormalization\u001b[0m)            │                        │               │\n",
              "├─────────────────────────────────┼────────────────────────┼───────────────┤\n",
              "│ pool3 (\u001b[38;5;33mMaxPooling2D\u001b[0m)            │ (\u001b[38;5;45mNone\u001b[0m, \u001b[38;5;34m25\u001b[0m, \u001b[38;5;34m12\u001b[0m, \u001b[38;5;34m256\u001b[0m)    │             \u001b[38;5;34m0\u001b[0m │\n",
              "├─────────────────────────────────┼────────────────────────┼───────────────┤\n",
              "│ reshape (\u001b[38;5;33mReshape\u001b[0m)               │ (\u001b[38;5;45mNone\u001b[0m, \u001b[38;5;34m25\u001b[0m, \u001b[38;5;34m3072\u001b[0m)       │             \u001b[38;5;34m0\u001b[0m │\n",
              "├─────────────────────────────────┼────────────────────────┼───────────────┤\n",
              "│ dense_2 (\u001b[38;5;33mDense\u001b[0m)                 │ (\u001b[38;5;45mNone\u001b[0m, \u001b[38;5;34m25\u001b[0m, \u001b[38;5;34m128\u001b[0m)        │       \u001b[38;5;34m393,344\u001b[0m │\n",
              "├─────────────────────────────────┼────────────────────────┼───────────────┤\n",
              "│ dropout_1 (\u001b[38;5;33mDropout\u001b[0m)             │ (\u001b[38;5;45mNone\u001b[0m, \u001b[38;5;34m25\u001b[0m, \u001b[38;5;34m128\u001b[0m)        │             \u001b[38;5;34m0\u001b[0m │\n",
              "├─────────────────────────────────┼────────────────────────┼───────────────┤\n",
              "│ bidirectional_1 (\u001b[38;5;33mBidirectional\u001b[0m) │ (\u001b[38;5;45mNone\u001b[0m, \u001b[38;5;34m25\u001b[0m, \u001b[38;5;34m256\u001b[0m)        │       \u001b[38;5;34m263,168\u001b[0m │\n",
              "├─────────────────────────────────┼────────────────────────┼───────────────┤\n",
              "│ dense_3 (\u001b[38;5;33mDense\u001b[0m)                 │ (\u001b[38;5;45mNone\u001b[0m, \u001b[38;5;34m25\u001b[0m, \u001b[38;5;34m66\u001b[0m)         │        \u001b[38;5;34m16,962\u001b[0m │\n",
              "└─────────────────────────────────┴────────────────────────┴───────────────┘\n"
            ]
          },
          "metadata": {},
          "output_type": "display_data"
        },
        {
          "data": {
            "text/html": [
              "<pre style=\"white-space:pre;overflow-x:auto;line-height:normal;font-family:Menlo,'DejaVu Sans Mono',consolas,'Courier New',monospace\"><span style=\"font-weight: bold\"> Total params: </span><span style=\"color: #00af00; text-decoration-color: #00af00\">1,044,930</span> (3.99 MB)\n",
              "</pre>\n"
            ],
            "text/plain": [
              "\u001b[1m Total params: \u001b[0m\u001b[38;5;34m1,044,930\u001b[0m (3.99 MB)\n"
            ]
          },
          "metadata": {},
          "output_type": "display_data"
        },
        {
          "data": {
            "text/html": [
              "<pre style=\"white-space:pre;overflow-x:auto;line-height:normal;font-family:Menlo,'DejaVu Sans Mono',consolas,'Courier New',monospace\"><span style=\"font-weight: bold\"> Trainable params: </span><span style=\"color: #00af00; text-decoration-color: #00af00\">1,044,034</span> (3.98 MB)\n",
              "</pre>\n"
            ],
            "text/plain": [
              "\u001b[1m Trainable params: \u001b[0m\u001b[38;5;34m1,044,034\u001b[0m (3.98 MB)\n"
            ]
          },
          "metadata": {},
          "output_type": "display_data"
        },
        {
          "data": {
            "text/html": [
              "<pre style=\"white-space:pre;overflow-x:auto;line-height:normal;font-family:Menlo,'DejaVu Sans Mono',consolas,'Courier New',monospace\"><span style=\"font-weight: bold\"> Non-trainable params: </span><span style=\"color: #00af00; text-decoration-color: #00af00\">896</span> (3.50 KB)\n",
              "</pre>\n"
            ],
            "text/plain": [
              "\u001b[1m Non-trainable params: \u001b[0m\u001b[38;5;34m896\u001b[0m (3.50 KB)\n"
            ]
          },
          "metadata": {},
          "output_type": "display_data"
        }
      ],
      "source": [
        "# Define the input layer\n",
        "input_data = Input(shape=(image_height, image_width, 1), name='input_image')\n",
        "\n",
        "# Standardize values to be in the [0, 1] range\n",
        "x = Rescaling(1./255)(input_data)\n",
        "\n",
        "# Transpose the tensor to shape (None, image_width, image_height, 1)\n",
        "x = Lambda(lambda x: tf.transpose(x, perm=[0, 2, 1, 3]), name=\"transpose\")(x)\n",
        "\n",
        "# Convolutional layers\n",
        "x = Conv2D(64, (3, 3), activation=\"relu\", kernel_initializer=tf.keras.initializers.he_normal(), padding=\"same\")(x)\n",
        "x = BatchNormalization()(x)\n",
        "x = MaxPooling2D((2, 2), name=\"pool1\")(x)\n",
        "\n",
        "x = Conv2D(128, (3, 3), activation=\"relu\", kernel_initializer=tf.keras.initializers.he_normal(), padding=\"same\")(x)\n",
        "x = BatchNormalization()(x)\n",
        "x = MaxPooling2D((2, 2), name=\"pool2\")(x)\n",
        "\n",
        "x = Conv2D(256, (3, 3), activation=\"relu\", kernel_initializer=tf.keras.initializers.he_normal(), padding=\"same\")(x)\n",
        "x = BatchNormalization()(x)\n",
        "x = MaxPooling2D((2, 1), name=\"pool3\")(x) # Pooling over time dimension\n",
        "\n",
        "x = Reshape(target_shape=(image_width // 8, (image_height // 4) * 256), name=\"reshape\")(x)\n",
        "x = Dense(128, activation=\"relu\", kernel_initializer=tf.keras.initializers.he_normal())(x)\n",
        "x = Dropout(0.2)(x)\n",
        "\n",
        "\n",
        "# Recurrent layers (Bidirectional LSTM)\n",
        "x = Bidirectional(LSTM(128, return_sequences=True, dropout=0.25))(x)\n",
        "\n",
        "# Output layer (CTC)\n",
        "output = Dense(len(all_possible_characters) + 1, activation='softmax')(x)\n",
        "\n",
        "# Create a custom model class to handle (image, label, label_length) tuples\n",
        "class CTCModel(Model):\n",
        "    def __init__(self, *args, **kwargs):\n",
        "        super().__init__(*args, **kwargs)\n",
        "        self.loss_tracker = tf.keras.metrics.Mean(name=\"loss\")\n",
        "    \n",
        "    def train_step(self, data):\n",
        "        # Unpack the data (image, label, label_length)\n",
        "        images, labels, label_lengths = data\n",
        "        \n",
        "        with tf.GradientTape() as tape:\n",
        "            # Forward pass\n",
        "            y_pred = self(images, training=True)\n",
        "            \n",
        "            # Calculate CTC loss\n",
        "            batch_len = tf.cast(tf.shape(y_pred)[0], dtype=\"int64\")\n",
        "            input_length = tf.cast(tf.shape(y_pred)[1], dtype=\"int64\")\n",
        "            input_length = input_length * tf.ones(shape=(batch_len,), dtype=\"int64\")\n",
        "            \n",
        "            # Reshape input_length to (batch_size, 1) for ctc_batch_cost\n",
        "            input_length = tf.reshape(input_length, [-1, 1])\n",
        "            \n",
        "            # Use actual label lengths and ensure proper shape (batch_size, 1)\n",
        "            label_length = tf.cast(label_lengths, dtype=\"int64\")\n",
        "            if len(label_length.shape) == 1:\n",
        "                label_length = tf.reshape(label_length, [-1, 1])\n",
        "            \n",
        "            loss = ctc_batch_cost(labels, y_pred, input_length, label_length)\n",
        "        \n",
        "        # Compute gradients\n",
        "        trainable_vars = self.trainable_variables\n",
        "        gradients = tape.gradient(loss, trainable_vars)\n",
        "        \n",
        "        # Update weights\n",
        "        self.optimizer.apply_gradients(zip(gradients, trainable_vars))\n",
        "        \n",
        "        # Update metrics\n",
        "        self.loss_tracker.update_state(loss)\n",
        "        \n",
        "        return {\"loss\": self.loss_tracker.result()}\n",
        "    \n",
        "    def test_step(self, data):\n",
        "        # Unpack the data (image, label, label_length)\n",
        "        images, labels, label_lengths = data\n",
        "        \n",
        "        # Forward pass\n",
        "        y_pred = self(images, training=False)\n",
        "        \n",
        "        # Calculate CTC loss\n",
        "        batch_len = tf.cast(tf.shape(y_pred)[0], dtype=\"int64\")\n",
        "        input_length = tf.cast(tf.shape(y_pred)[1], dtype=\"int64\")\n",
        "        input_length = input_length * tf.ones(shape=(batch_len,), dtype=\"int64\")\n",
        "        \n",
        "        # Reshape input_length to (batch_size, 1) for ctc_batch_cost\n",
        "        input_length = tf.reshape(input_length, [-1, 1])\n",
        "        \n",
        "        # Use actual label lengths and ensure proper shape (batch_size, 1)\n",
        "        label_length = tf.cast(label_lengths, dtype=\"int64\")\n",
        "        if len(label_length.shape) == 1:\n",
        "            label_length = tf.reshape(label_length, [-1, 1])\n",
        "        \n",
        "        loss = ctc_batch_cost(labels, y_pred, input_length, label_length)\n",
        "        \n",
        "        # Update metrics\n",
        "        self.loss_tracker.update_state(loss)\n",
        "        \n",
        "        return {\"loss\": self.loss_tracker.result()}\n",
        "    \n",
        "    @property\n",
        "    def metrics(self):\n",
        "        return [self.loss_tracker]\n",
        "\n",
        "# Create the model with custom training step\n",
        "model = CTCModel(inputs=input_data, outputs=output, name=\"OCR_model\")\n",
        "\n",
        "# Compile the model\n",
        "model.compile(optimizer=Adam())\n",
        "model.summary()"
      ]
    },
    {
      "cell_type": "markdown",
      "metadata": {
        "id": "tQfPiZvcpjfT"
      },
      "source": [
        "## Training the Model\n",
        "\n",
        "Now, let's train our OCR model. We'll run training for a maximum of 20 epochs but include an early stopping mechanism to prevent overfitting. The training progress will be monitored based on the loss, and if the loss doesn't improve for 5 consecutive epochs, training will stop. The best weights from training will be restored.\n",
        "\n"
      ]
    },
    {
      "cell_type": "code",
      "execution_count": 12,
      "metadata": {
        "colab": {
          "base_uri": "https://localhost:8080/"
        },
        "id": "8zsLGhwKkBzG",
        "outputId": "e6a3ed7e-a5d9-43e6-dda2-4f71ada0ac7e"
      },
      "outputs": [
        {
          "name": "stdout",
          "output_type": "stream",
          "text": [
            "Epoch 1/20\n"
          ]
        },
        {
          "ename": "IndexError",
          "evalue": "tuple index out of range",
          "output_type": "error",
          "traceback": [
            "\u001b[31m---------------------------------------------------------------------------\u001b[39m",
            "\u001b[31mIndexError\u001b[39m                                Traceback (most recent call last)",
            "\u001b[36mCell\u001b[39m\u001b[36m \u001b[39m\u001b[32mIn[12]\u001b[39m\u001b[32m, line 11\u001b[39m\n\u001b[32m      1\u001b[39m num_epochs = \u001b[32m20\u001b[39m\n\u001b[32m      3\u001b[39m callbacks = [\n\u001b[32m      4\u001b[39m     tf.keras.callbacks.EarlyStopping(\n\u001b[32m      5\u001b[39m         monitor=\u001b[33m'\u001b[39m\u001b[33mloss\u001b[39m\u001b[33m'\u001b[39m,\n\u001b[32m   (...)\u001b[39m\u001b[32m      8\u001b[39m         restore_best_weights=\u001b[38;5;28;01mTrue\u001b[39;00m),\n\u001b[32m      9\u001b[39m ]\n\u001b[32m---> \u001b[39m\u001b[32m11\u001b[39m history = \u001b[43mmodel\u001b[49m\u001b[43m.\u001b[49m\u001b[43mfit\u001b[49m\u001b[43m(\u001b[49m\n\u001b[32m     12\u001b[39m \u001b[43m    \u001b[49m\u001b[43mtrain_dataset\u001b[49m\u001b[43m,\u001b[49m\n\u001b[32m     13\u001b[39m \u001b[43m    \u001b[49m\u001b[43mepochs\u001b[49m\u001b[43m=\u001b[49m\u001b[43mnum_epochs\u001b[49m\u001b[43m,\u001b[49m\n\u001b[32m     14\u001b[39m \u001b[43m    \u001b[49m\u001b[43mvalidation_data\u001b[49m\u001b[43m=\u001b[49m\u001b[43mvalidation_dataset\u001b[49m\u001b[43m,\u001b[49m\n\u001b[32m     15\u001b[39m \u001b[43m    \u001b[49m\u001b[43mcallbacks\u001b[49m\u001b[43m=\u001b[49m\u001b[43mcallbacks\u001b[49m\n\u001b[32m     16\u001b[39m \u001b[43m)\u001b[49m\n",
            "\u001b[36mFile \u001b[39m\u001b[32m~\\AppData\\Roaming\\Python\\Python313\\site-packages\\keras\\src\\utils\\traceback_utils.py:122\u001b[39m, in \u001b[36mfilter_traceback.<locals>.error_handler\u001b[39m\u001b[34m(*args, **kwargs)\u001b[39m\n\u001b[32m    119\u001b[39m     filtered_tb = _process_traceback_frames(e.__traceback__)\n\u001b[32m    120\u001b[39m     \u001b[38;5;66;03m# To get the full stack trace, call:\u001b[39;00m\n\u001b[32m    121\u001b[39m     \u001b[38;5;66;03m# `keras.config.disable_traceback_filtering()`\u001b[39;00m\n\u001b[32m--> \u001b[39m\u001b[32m122\u001b[39m     \u001b[38;5;28;01mraise\u001b[39;00m e.with_traceback(filtered_tb) \u001b[38;5;28;01mfrom\u001b[39;00m\u001b[38;5;250m \u001b[39m\u001b[38;5;28;01mNone\u001b[39;00m\n\u001b[32m    123\u001b[39m \u001b[38;5;28;01mfinally\u001b[39;00m:\n\u001b[32m    124\u001b[39m     \u001b[38;5;28;01mdel\u001b[39;00m filtered_tb\n",
            "\u001b[36mCell\u001b[39m\u001b[36m \u001b[39m\u001b[32mIn[11]\u001b[39m\u001b[32m, line 56\u001b[39m, in \u001b[36mCTCModel.train_step\u001b[39m\u001b[34m(self, data)\u001b[39m\n\u001b[32m     53\u001b[39m     \u001b[38;5;66;03m# Use actual label lengths instead of max_length\u001b[39;00m\n\u001b[32m     54\u001b[39m     label_length = tf.cast(label_lengths, dtype=\u001b[33m\"\u001b[39m\u001b[33mint64\u001b[39m\u001b[33m\"\u001b[39m)\n\u001b[32m---> \u001b[39m\u001b[32m56\u001b[39m     loss = \u001b[43mctc_batch_cost\u001b[49m\u001b[43m(\u001b[49m\u001b[43mlabels\u001b[49m\u001b[43m,\u001b[49m\u001b[43m \u001b[49m\u001b[43my_pred\u001b[49m\u001b[43m,\u001b[49m\u001b[43m \u001b[49m\u001b[43minput_length\u001b[49m\u001b[43m,\u001b[49m\u001b[43m \u001b[49m\u001b[43mlabel_length\u001b[49m\u001b[43m)\u001b[49m\n\u001b[32m     58\u001b[39m \u001b[38;5;66;03m# Compute gradients\u001b[39;00m\n\u001b[32m     59\u001b[39m trainable_vars = \u001b[38;5;28mself\u001b[39m.trainable_variables\n",
            "\u001b[31mIndexError\u001b[39m: tuple index out of range"
          ]
        }
      ],
      "source": [
        "num_epochs = 20\n",
        "\n",
        "callbacks = [\n",
        "    tf.keras.callbacks.EarlyStopping(\n",
        "        monitor='loss',\n",
        "        patience=5,\n",
        "        verbose=1,\n",
        "        restore_best_weights=True),\n",
        "]\n",
        "\n",
        "history = model.fit(\n",
        "    train_dataset,\n",
        "    epochs=num_epochs,\n",
        "    validation_data=validation_dataset,\n",
        "    callbacks=callbacks\n",
        ")"
      ]
    },
    {
      "cell_type": "markdown",
      "metadata": {
        "id": "WPcr8Ibgpwpz"
      },
      "source": [
        "## Analyzing Training History\n",
        "\n",
        "In this section, we analyze the training history to identify the epoch with the lowest validation loss, which often corresponds to the best model performance. We also visualize the training and validation loss over epochs to understand how the model's performance evolved during training.\n"
      ]
    },
    {
      "cell_type": "code",
      "execution_count": null,
      "metadata": {
        "colab": {
          "base_uri": "https://localhost:8080/",
          "height": 607
        },
        "id": "ydE5ucuLecTu",
        "outputId": "b83637a3-70ab-4bf9-b7d1-693aafe36642"
      },
      "outputs": [],
      "source": [
        "# Find the epoch with the lowest validation loss\n",
        "best_epoch = history.history['val_loss'].index(min(history.history['val_loss']))\n",
        "\n",
        "\n",
        "# Plot training history without accuracy\n",
        "def plot_training_history(history, best_epoch):\n",
        "    plt.figure(figsize=(9, 6))\n",
        "\n",
        "    # Plot training & validation loss values\n",
        "    plt.plot(history.history['loss'], label='Training Loss')\n",
        "    plt.plot(history.history['val_loss'], label='Validation Loss')\n",
        "    plt.title('Model Loss')\n",
        "    plt.xlabel('Epoch')\n",
        "    plt.ylabel('Loss')\n",
        "    plt.legend()\n",
        "\n",
        "    # Display the lowest validation loss and the epoch at which it occurred\n",
        "    min_val_loss = min(history.history['val_loss'])\n",
        "    plt.annotate(\n",
        "        f'Lowest Validation Loss: {min_val_loss:.4f}\\nEpoch: {best_epoch + 1}',\n",
        "        xy=(best_epoch, min_val_loss),\n",
        "        xytext=(best_epoch - 3, min_val_loss + 0.1),  # Adjust text position\n",
        "        arrowprops=dict(facecolor='black', arrowstyle='->')\n",
        "    )\n",
        "\n",
        "    plt.tight_layout()\n",
        "    plt.show()\n",
        "\n",
        "\n",
        "plot_training_history(history, best_epoch)"
      ]
    },
    {
      "cell_type": "markdown",
      "metadata": {
        "id": "CoCdheKOp-uw"
      },
      "source": [
        "## Decoding and Visualizing Samples\n",
        "\n",
        "This section of the code is dedicated to decoding and visualizing random samples from the validation dataset using the trained CRNN (Convolutional Recurrent Neural Network) model. The primary purpose is to assess the model's performance by observing its predictions on real data.\n"
      ]
    },
    {
      "cell_type": "code",
      "execution_count": null,
      "metadata": {
        "colab": {
          "base_uri": "https://localhost:8080/",
          "height": 1000
        },
        "id": "3jpSb6SdifN-",
        "outputId": "345fd2dc-be0a-4d33-90d7-63ab8d2e221a"
      },
      "outputs": [],
      "source": [
        "def decode_and_visualize_samples(model, dataset, int_to_char, num_samples=5):\n",
        "    \"\"\"\n",
        "    Decode and visualize random samples from a dataset using the provided model.\n",
        "\n",
        "    Args:\n",
        "        model (tf.keras.Model): The CRNN model.\n",
        "        dataset (tf.data.Dataset): The dataset containing image-label pairs.\n",
        "        int_to_char (dict): A mapping from integer labels to characters.\n",
        "        num_samples (int): The number of samples to visualize.\n",
        "\n",
        "    Returns:\n",
        "        None\n",
        "    \"\"\"\n",
        "\n",
        "    # Create an iterator for the dataset\n",
        "    dataset_iter = iter(dataset)\n",
        "\n",
        "    # Create a subplot grid\n",
        "    fig, axes = plt.subplots(num_samples, 1, figsize=(4, 2 * num_samples))\n",
        "\n",
        "    # Iterate through the random samples, decode, and visualize them\n",
        "    for i in range(num_samples):\n",
        "        image, label, label_length = next(dataset_iter)\n",
        "\n",
        "        # Make predictions using the model\n",
        "        predictions = model.predict(image)\n",
        "        # Decode the predictions using CTC decode\n",
        "        decoded, _ = ctc_decode(predictions, input_length=tf.fill((batch_size,), 25), greedy=True)\n",
        "\n",
        "        # Convert decoded labels to characters (skip padding and invalid values)\n",
        "        decoded_labels = [int_to_char[int(x)] for x in decoded[0][0,:max_length].numpy() if int(x) >= 0 and int(x) in int_to_char]\n",
        "        \n",
        "        # Convert uppercase letters to lowercase\n",
        "        decoded_text = ''.join(decoded_labels).lower()\n",
        "\n",
        "        # Display the image and decoded label\n",
        "        axes[i].imshow(image[0, :, :, 0], cmap='gray')\n",
        "        axes[i].set_title(\"Decoded: \" + decoded_text)\n",
        "        axes[i].axis('off')\n",
        "\n",
        "    # Adjust spacing and display the grid\n",
        "    plt.tight_layout()\n",
        "    plt.show()\n",
        "\n",
        "# Example usage:\n",
        "decode_and_visualize_samples(model, validation_dataset, int_to_char, num_samples=5)"
      ]
    }
  ],
  "metadata": {
    "accelerator": "GPU",
    "colab": {
      "provenance": []
    },
    "kernelspec": {
      "display_name": "Python 3",
      "name": "python3"
    },
    "language_info": {
      "codemirror_mode": {
        "name": "ipython",
        "version": 3
      },
      "file_extension": ".py",
      "mimetype": "text/x-python",
      "name": "python",
      "nbconvert_exporter": "python",
      "pygments_lexer": "ipython3",
      "version": "3.13.1"
    }
  },
  "nbformat": 4,
  "nbformat_minor": 0
}
